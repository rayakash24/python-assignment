{
 "cells": [
  {
   "cell_type": "code",
   "execution_count": 1,
   "id": "d9ec1ef0",
   "metadata": {},
   "outputs": [],
   "source": [
    "#Question 1: Write a program to print all the natural numbers from 1 to n (user input). Then print the same in reverse order."
   ]
  },
  {
   "cell_type": "code",
   "execution_count": 2,
   "id": "d552d72e",
   "metadata": {},
   "outputs": [
    {
     "name": "stdout",
     "output_type": "stream",
     "text": [
      "Enter the value of n: 10\n",
      "1 2 3 4 5 6 7 8 9 10 \n",
      "REVERSE ORDER: \n",
      "10 9 8 7 6 5 4 3 2 1 "
     ]
    }
   ],
   "source": [
    "num = int(input(\"Enter the value of n: \"))\n",
    "for i in range (num):\n",
    "    print(i+1, end = \" \")\n",
    "\n",
    "print()\n",
    "\n",
    "print(\"REVERSE ORDER: \")\n",
    "for i in range(num):\n",
    "    print(num-i, end = \" \")"
   ]
  },
  {
   "cell_type": "code",
   "execution_count": 3,
   "id": "5ecbd552",
   "metadata": {},
   "outputs": [],
   "source": [
    "#Question 2: Print all odd numbers and even numbers between 1 to 100."
   ]
  },
  {
   "cell_type": "code",
   "execution_count": 4,
   "id": "c2e37544",
   "metadata": {},
   "outputs": [
    {
     "name": "stdout",
     "output_type": "stream",
     "text": [
      "Odd no'S between 1 to 100 are: \n",
      "1 3 5 7 9 11 13 15 17 19 21 23 25 27 29 31 33 35 37 39 41 43 45 47 49 51 53 55 57 59 61 63 65 67 69 71 73 75 77 79 81 83 85 87 89 91 93 95 97 99 \n",
      "Even no's between 1 to 100: \n",
      "2 4 6 8 10 12 14 16 18 20 22 24 26 28 30 32 34 36 38 40 42 44 46 48 50 52 54 56 58 60 62 64 66 68 70 72 74 76 78 80 82 84 86 88 90 92 94 96 98 100 "
     ]
    }
   ],
   "source": [
    "print(\"Odd no'S between 1 to 100 are: \")\n",
    "for i in range (1, 101):\n",
    "    if(i % 2 != 0):\n",
    "        print(i, end = \" \")\n",
    "\n",
    "print()\n",
    "print(\"Even no's between 1 to 100: \")\n",
    "for i in range (1, 101):\n",
    "    if (i % 2 == 0):\n",
    "        print(i, end = \" \")"
   ]
  },
  {
   "cell_type": "code",
   "execution_count": 5,
   "id": "5ec1cb90",
   "metadata": {},
   "outputs": [],
   "source": [
    "#Question 3: Write a program to check if a number is prime or not. Example: 7 ==> True, 6 ==> False"
   ]
  },
  {
   "cell_type": "code",
   "execution_count": 13,
   "id": "dd998eeb",
   "metadata": {},
   "outputs": [
    {
     "name": "stdout",
     "output_type": "stream",
     "text": [
      "Enter the number to check: 5\n",
      "True\n"
     ]
    }
   ],
   "source": [
    "# TRUE FOR PRIME AND FALSE FOR NOT PRIME\n",
    "n = int(input(\"Enter the number to check: \"))\n",
    "\n",
    "flag = True\n",
    "\n",
    "for i in range (2, n // 2):\n",
    "    if (n % i == 0):\n",
    "        print( not flag)\n",
    "        flag = False\n",
    "        break\n",
    "        \n",
    "if (flag == True):\n",
    "    print(flag)"
   ]
  },
  {
   "cell_type": "code",
   "execution_count": 14,
   "id": "a57b9c4f",
   "metadata": {},
   "outputs": [],
   "source": [
    "#Question 4:Write a program that asks the user for a number n and prints the sum of the numbers 1 to n such that only multiples of three or five are considered in the sum"
   ]
  },
  {
   "cell_type": "code",
   "execution_count": 15,
   "id": "ca2c0d3b",
   "metadata": {},
   "outputs": [
    {
     "name": "stdout",
     "output_type": "stream",
     "text": [
      "Enter a number:17\n",
      "3 5 6 9 10 12 15 \n",
      "sum = 60\n"
     ]
    }
   ],
   "source": [
    "#eg = 3, 5, 6, 9, 10, 12, 15 for n=17.\n",
    "n=int(input(\"Enter a number:\"))\n",
    "sum=0\n",
    "for i in range(1,n):\n",
    "    if i%3==0 or i%5==0:\n",
    "        print(i,end=\" \")\n",
    "        sum=sum+i\n",
    "print()\n",
    "print(\"sum =\",sum)"
   ]
  },
  {
   "cell_type": "code",
   "execution_count": 16,
   "id": "71bca7bf",
   "metadata": {},
   "outputs": [],
   "source": [
    "#Question 5:Write a program that asks the user for a number n and gives them the possibility to choose between computing the sum and computing the product of 1,…,n."
   ]
  },
  {
   "cell_type": "code",
   "execution_count": 17,
   "id": "9b706fa8",
   "metadata": {},
   "outputs": [
    {
     "name": "stdout",
     "output_type": "stream",
     "text": [
      "Enter a number:6\n",
      "Enter 1 for SUM : \n",
      "Enter 2 for PRODUCT\n",
      "Enter either 1 or 2 : 2\n",
      " 120\n"
     ]
    }
   ],
   "source": [
    "num = int(input(\"Enter a number:\"))\n",
    "print (\"Enter 1 for SUM : \")\n",
    "print (\"Enter 2 for PRODUCT\")\n",
    "choice=int(input(\"Enter either 1 or 2 : \"))\n",
    "\n",
    "product = 1\n",
    "sum = 0\n",
    "for i in range(1,num):\n",
    "    if(choice == 1):\n",
    "        sum = sum+i\n",
    "        product = ''\n",
    "    elif(choice == 2):\n",
    "        product = product*i\n",
    "        sum = ''\n",
    "    else:\n",
    "        print(\"Invalid choice!!!\")\n",
    "        product = ''\n",
    "        sum = ''\n",
    "        break\n",
    "print(sum,product)"
   ]
  },
  {
   "cell_type": "code",
   "execution_count": 18,
   "id": "54238b62",
   "metadata": {},
   "outputs": [],
   "source": [
    "#Question 6:Find the sum of all the multiples of 3 or 5 below 1000"
   ]
  },
  {
   "cell_type": "code",
   "execution_count": 20,
   "id": "ef96609d",
   "metadata": {},
   "outputs": [
    {
     "name": "stdout",
     "output_type": "stream",
     "text": [
      "Sum :  233168\n"
     ]
    }
   ],
   "source": [
    "sum = 0\n",
    "\n",
    "for i in range(1000):\n",
    "    if (i % 3 == 0 or i % 5 == 0):\n",
    "        sum =sum + i\n",
    "\n",
    "print(\"Sum : \", sum)"
   ]
  },
  {
   "cell_type": "code",
   "execution_count": 21,
   "id": "f9dd113c",
   "metadata": {},
   "outputs": [],
   "source": [
    "#Question 7:Write a program which will find all such numbers which are divisible by 7 but are not a multiple of 5, between 2000 and 3200 (both included)"
   ]
  },
  {
   "cell_type": "code",
   "execution_count": 25,
   "id": "10b6746b",
   "metadata": {},
   "outputs": [
    {
     "name": "stdout",
     "output_type": "stream",
     "text": [
      "2002 2009 2016 2023 2037 2044 2051 2058 2072 2079 2086 2093 2107 2114 2121 2128 2142 2149 2156 2163 2177 2184 2191 2198 2212 2219 2226 2233 2247 2254 2261 2268 2282 2289 2296 2303 2317 2324 2331 2338 2352 2359 2366 2373 2387 2394 2401 2408 2422 2429 2436 2443 2457 2464 2471 2478 2492 2499 2506 2513 2527 2534 2541 2548 2562 2569 2576 2583 2597 2604 2611 2618 2632 2639 2646 2653 2667 2674 2681 2688 2702 2709 2716 2723 2737 2744 2751 2758 2772 2779 2786 2793 2807 2814 2821 2828 2842 2849 2856 2863 2877 2884 2891 2898 2912 2919 2926 2933 2947 2954 2961 2968 2982 2989 2996 3003 3017 3024 3031 3038 3052 3059 3066 3073 3087 3094 3101 3108 3122 3129 3136 3143 3157 3164 3171 3178 3192 3199 "
     ]
    }
   ],
   "source": [
    "for i in range (2000, 3201):\n",
    "    if (i % 7 == 0 and i % 5 != 0):\n",
    "        print(i, end = \" \")"
   ]
  },
  {
   "cell_type": "code",
   "execution_count": 26,
   "id": "02c8360e",
   "metadata": {},
   "outputs": [],
   "source": [
    "#Question 8:Find the difference between the sum of the squares of the first one hundred natural numbers and the square of the sum."
   ]
  },
  {
   "cell_type": "code",
   "execution_count": 32,
   "id": "5d506e00",
   "metadata": {},
   "outputs": [
    {
     "name": "stdout",
     "output_type": "stream",
     "text": [
      "Difference is: 25164150\n"
     ]
    }
   ],
   "source": [
    "def sum_Of_Square(sum):\n",
    "    for i in range (1, 101):\n",
    "        sum = sum + (i**2)\n",
    "    return sum\n",
    "    \n",
    "def square_Of_Sum(sum):\n",
    "    for i in range (1, 101):\n",
    "        sum =sum + i\n",
    "    square = sum**2\n",
    "    return square\n",
    "    \n",
    "def difference(add, sq):\n",
    "    difference = sq-add\n",
    "    print(\"Difference is:\", difference)\n",
    "\n",
    "sum = 0\n",
    "add = sum_Of_Square(sum)\n",
    "sq = square_Of_Sum(sum)\n",
    "diff(add, sq)"
   ]
  },
  {
   "cell_type": "code",
   "execution_count": 33,
   "id": "ed9ba430",
   "metadata": {},
   "outputs": [],
   "source": [
    "#Question 9:Write a program which can compute the factorial of a given number."
   ]
  },
  {
   "cell_type": "code",
   "execution_count": 37,
   "id": "00367939",
   "metadata": {},
   "outputs": [
    {
     "name": "stdout",
     "output_type": "stream",
     "text": [
      "Enter the no.: 5\n",
      "Factorial of 5 is 120\n"
     ]
    }
   ],
   "source": [
    "num = int(input(\"Enter the no.: \"))\n",
    "\n",
    "fact = 1\n",
    "\n",
    "def factorial(fact):\n",
    "    if (num == 0):\n",
    "        print(\"Factorial of 0 is 1\")\n",
    "    \n",
    "    elif (num < 0):\n",
    "        print(\"Factorial of negative numbers cannot be calculated\")\n",
    "    \n",
    "    else:\n",
    "        for i in range (1, num+1):\n",
    "            fact = fact * i\n",
    "        print(\"Factorial of\", num, \"is\", fact)\n",
    "    \n",
    "factorial(fact)"
   ]
  },
  {
   "cell_type": "code",
   "execution_count": 38,
   "id": "cfd94cc0",
   "metadata": {},
   "outputs": [],
   "source": [
    "#Question 10: pattern"
   ]
  },
  {
   "cell_type": "code",
   "execution_count": null,
   "id": "cbf946c3",
   "metadata": {},
   "outputs": [],
   "source": [
    "'''1\n",
    "   2 2\n",
    "   3 3 3 \n",
    "   4 4 4 4\n",
    "   5 5 5 5 5'''"
   ]
  },
  {
   "cell_type": "code",
   "execution_count": 48,
   "id": "36d3af5a",
   "metadata": {},
   "outputs": [
    {
     "name": "stdout",
     "output_type": "stream",
     "text": [
      "Enter the number : 5\n",
      "1 \n",
      "2 2 \n",
      "3 3 3 \n",
      "4 4 4 4 \n",
      "5 5 5 5 5 \n"
     ]
    }
   ],
   "source": [
    "num = int(input(\"Enter the number : \"))\n",
    "for i in range (num):\n",
    "    for j in range (i+1):\n",
    "        print(i+1, end = \" \")\n",
    "    print()\n",
    "    "
   ]
  },
  {
   "cell_type": "code",
   "execution_count": null,
   "id": "5078f9ff",
   "metadata": {},
   "outputs": [],
   "source": [
    "'''\n",
    "5 5 5 5 5 \n",
    "5 4 4 4 5 \n",
    "5 4 3 4 5 \n",
    "5 4 4 4 5 \n",
    "5 5 5 5 5 '''"
   ]
  },
  {
   "cell_type": "code",
   "execution_count": 49,
   "id": "bf244bec",
   "metadata": {},
   "outputs": [
    {
     "name": "stdout",
     "output_type": "stream",
     "text": [
      "5 5 5 5 5 \n",
      "5 4 4 4 5 \n",
      "5 4 3 4 5 \n",
      "5 4 4 4 5 \n",
      "5 5 5 5 5 \n"
     ]
    }
   ],
   "source": [
    "n = 5\n",
    "for i in range (n):\n",
    "    for j in range (n):\n",
    "        print(max(i+1,j+1, n-i, n-j), end = \" \")\n",
    "    print()"
   ]
  },
  {
   "cell_type": "code",
   "execution_count": null,
   "id": "48d898b9",
   "metadata": {},
   "outputs": [],
   "source": [
    "'''\n",
    "* \n",
    "* * \n",
    "* * * \n",
    "* * * * \n",
    "* * * * * ''' "
   ]
  },
  {
   "cell_type": "code",
   "execution_count": 50,
   "id": "4ee2e870",
   "metadata": {},
   "outputs": [
    {
     "name": "stdout",
     "output_type": "stream",
     "text": [
      "Enter a number:5\n",
      "\n",
      "* \n",
      "* * \n",
      "* * * \n",
      "* * * * \n",
      "* * * * * \n"
     ]
    }
   ],
   "source": [
    "n=int(input(\"Enter a number:\"))\n",
    "for i in range(n+1):\n",
    "    for j in range(i):\n",
    "        print(\"*\",end=\" \")\n",
    "    print()"
   ]
  },
  {
   "cell_type": "code",
   "execution_count": null,
   "id": "b340c563",
   "metadata": {},
   "outputs": [],
   "source": [
    "'''\n",
    "* * * * \n",
    "* * * \n",
    "* * \n",
    "* \n",
    "'''"
   ]
  },
  {
   "cell_type": "code",
   "execution_count": 51,
   "id": "8ed5fe6d",
   "metadata": {},
   "outputs": [
    {
     "name": "stdout",
     "output_type": "stream",
     "text": [
      "Enter a number:5\n",
      "* * * * \n",
      "* * * \n",
      "* * \n",
      "* \n",
      "\n",
      "\n"
     ]
    }
   ],
   "source": [
    "n=int(input(\"Enter a number:\"))\n",
    "for i in range(n+1):\n",
    "    for j in range(j):\n",
    "        print(\"*\",end=\" \")\n",
    "    print()"
   ]
  },
  {
   "cell_type": "code",
   "execution_count": null,
   "id": "5c6b83aa",
   "metadata": {},
   "outputs": [],
   "source": [
    "'''\n",
    "# # # # # \n",
    "# # # # # \n",
    "# # # # # \n",
    "# # # # # \n",
    "# # # # #\n",
    "'''"
   ]
  },
  {
   "cell_type": "code",
   "execution_count": 52,
   "id": "d2fdca24",
   "metadata": {},
   "outputs": [
    {
     "name": "stdout",
     "output_type": "stream",
     "text": [
      "Enter a number:5\n",
      "# # # # # \n",
      "# # # # # \n",
      "# # # # # \n",
      "# # # # # \n",
      "# # # # # \n"
     ]
    }
   ],
   "source": [
    "n=int(input(\"Enter a number:\"))\n",
    "for i in range(n):\n",
    "    for j in range(n):\n",
    "        print(\"#\",end=\" \")\n",
    "    print()"
   ]
  },
  {
   "cell_type": "code",
   "execution_count": null,
   "id": "63f8cc66",
   "metadata": {},
   "outputs": [],
   "source": [
    "#Question 11:Write a program that computes the value of a+aa+aaa+aaaa with a given digit as the value of a. Suppose the following input is supplied to the program: 9, Then, the output should be: 9 + 99 + 999 + 9999 =  11106."
   ]
  },
  {
   "cell_type": "code",
   "execution_count": 55,
   "id": "733c7e9f",
   "metadata": {},
   "outputs": [
    {
     "name": "stdout",
     "output_type": "stream",
     "text": [
      "Enter the no.:9\n",
      "9 + 99 + 999 + 9999 = 11106\n"
     ]
    }
   ],
   "source": [
    "a = int(input(\"Enter the no.:\"))\n",
    "res = 0\n",
    "\n",
    "def add(a, res):\n",
    "    for i in range (1, 5):\n",
    "        res += int(f\"{a}\"*i)\n",
    "        print(f\"{a}\"*i, end = \" \")\n",
    "        if(i < 4):\n",
    "            print(\"+\", end = \" \")\n",
    "        else:\n",
    "            print(\"=\", end = \" \")\n",
    "    return res\n",
    "\n",
    "print(add(a, res))"
   ]
  },
  {
   "cell_type": "code",
   "execution_count": null,
   "id": "93b8336b",
   "metadata": {},
   "outputs": [],
   "source": [
    "#Question 12:Find the length of a string using loops (not len())."
   ]
  },
  {
   "cell_type": "code",
   "execution_count": 56,
   "id": "72c63f90",
   "metadata": {},
   "outputs": [
    {
     "name": "stdout",
     "output_type": "stream",
     "text": [
      "akash\n",
      "Length of string:  5\n"
     ]
    }
   ],
   "source": [
    "str = input()\n",
    "count = 0\n",
    "for i in str:\n",
    "    count = count+1\n",
    "print(\"Length of string: \",count)"
   ]
  },
  {
   "cell_type": "code",
   "execution_count": null,
   "id": "0f1260f9",
   "metadata": {},
   "outputs": [],
   "source": [
    "#Question 13: Write a program that accepts a sentence (string) and calculate the number of letters and digits. Example: ‘this is a test sentence number 389."
   ]
  },
  {
   "cell_type": "code",
   "execution_count": 57,
   "id": "e0ee140e",
   "metadata": {},
   "outputs": [
    {
     "name": "stdout",
     "output_type": "stream",
     "text": [
      "Enter the string: this is a test sentence number 389\n",
      "Number of letters is 25 and number of digits is 3\n"
     ]
    }
   ],
   "source": [
    "str = input(\"Enter the string: \")\n",
    "\n",
    "intCount = 0\n",
    "letterCount = 0\n",
    "\n",
    "for i in str:\n",
    "    if (i.isdigit()):\n",
    "        intCount += 1\n",
    "    elif (i.isalpha()):\n",
    "        letterCount += 1\n",
    "\n",
    "print(f\"Number of letters is {letterCount} and number of digits is {intCount}\")"
   ]
  },
  {
   "cell_type": "code",
   "execution_count": null,
   "id": "a929ff2b",
   "metadata": {},
   "outputs": [],
   "source": [
    "#Question 14:Write a program that accepts a string and outputs the string with all capital letters.\n",
    "\n",
    "#      Example: ‘hello’ ==> ‘HELLO’. (using loop)"
   ]
  },
  {
   "cell_type": "code",
   "execution_count": 58,
   "id": "d578f85e",
   "metadata": {},
   "outputs": [
    {
     "name": "stdout",
     "output_type": "stream",
     "text": [
      "hello\n",
      "HELLO\n"
     ]
    }
   ],
   "source": [
    "str=input()\n",
    "string=''\n",
    "ran=len(str)\n",
    "for i in range(ran):\n",
    "    if str[i]>='a' and str[i]<='z':\n",
    "        string=string+chr((ord(str[i]) - 32))\n",
    "    else:\n",
    "        string = string+str[i]\n",
    "print(string)"
   ]
  },
  {
   "cell_type": "code",
   "execution_count": null,
   "id": "84fad71c",
   "metadata": {},
   "outputs": [],
   "source": [
    "#Question 15:Write a program that accepts a sentence and calculate the number of upper case letters and lower case letters."
   ]
  },
  {
   "cell_type": "code",
   "execution_count": 59,
   "id": "908fbff7",
   "metadata": {},
   "outputs": [
    {
     "name": "stdout",
     "output_type": "stream",
     "text": [
      "Akash Ray\n",
      "No. of upper case : 2  No. of lowercase:  6\n"
     ]
    }
   ],
   "source": [
    "count_Lower = 0\n",
    "count_Upper = 0\n",
    "st = input()\n",
    "string = st.replace(\" \",\"\")\n",
    "length = len(string)\n",
    "\n",
    "for i in range(length):\n",
    "    if string[i].islower():\n",
    "        count_Lower = count_Lower+1\n",
    "    elif string[i].isupper():\n",
    "        count_Upper = count_Upper+1\n",
    "print(\"No. of upper case :\",count_Upper,\" No. of lowercase: \",count_Lower)"
   ]
  },
  {
   "cell_type": "code",
   "execution_count": null,
   "id": "5cd7db2d",
   "metadata": {},
   "outputs": [],
   "source": [
    "#Question 16:Write  a program that counts the occurrence of a character in a string. Example: ‘This is a test string.’ count of i = 3.\n"
   ]
  },
  {
   "cell_type": "code",
   "execution_count": 64,
   "id": "60fd1633",
   "metadata": {},
   "outputs": [
    {
     "name": "stdout",
     "output_type": "stream",
     "text": [
      "Enter the string: This is a test string\n",
      "count of i\n",
      "Count of 'i' = 3\n"
     ]
    }
   ],
   "source": [
    "str = input(\"Enter the string: \")\n",
    "char = input(\"count of \"  )\n",
    "\n",
    "def count(str, char):\n",
    "    chCount = 0\n",
    "    for i in str:\n",
    "        if (i == char):\n",
    "            chCount = chCount + 1\n",
    "    return chCount\n",
    "\n",
    "print(f\"Count of '{char}' =\", count(str, char))"
   ]
  },
  {
   "cell_type": "code",
   "execution_count": null,
   "id": "2c60124c",
   "metadata": {},
   "outputs": [],
   "source": [
    "#Question 17:Write a program to find if a given string is a palindrome or not."
   ]
  },
  {
   "cell_type": "code",
   "execution_count": 65,
   "id": "ebb415ff",
   "metadata": {},
   "outputs": [
    {
     "name": "stdout",
     "output_type": "stream",
     "text": [
      "Enter string: madam\n",
      "Palindrome\n"
     ]
    }
   ],
   "source": [
    "st1 = input(\"Enter string: \")\n",
    "st2 = st1[::-1]\n",
    "if st1 == st2:\n",
    "    print(\"Palindrome\")\n",
    "else:\n",
    "    print(\"Not Palindrome\")"
   ]
  },
  {
   "cell_type": "code",
   "execution_count": null,
   "id": "e4b258bf",
   "metadata": {},
   "outputs": [],
   "source": [
    "#Question 18:Write a program which accepts two strings s1 and s2 and checks if s2 is a substring of s1."
   ]
  },
  {
   "cell_type": "code",
   "execution_count": 66,
   "id": "5010662d",
   "metadata": {},
   "outputs": [
    {
     "name": "stdout",
     "output_type": "stream",
     "text": [
      "Enter string:akashray\n",
      "Enter word:ray\n",
      "Substring is found\n"
     ]
    }
   ],
   "source": [
    "string = input(\"Enter string:\")\n",
    "sub_str = input(\"Enter word:\")\n",
    "\n",
    "if(string.find(sub_str)==-1):\n",
    "      print(\"Substring not found\")\n",
    "else:\n",
    "      print(\"Substring is found\")"
   ]
  },
  {
   "cell_type": "code",
   "execution_count": 67,
   "id": "4b6f30ce",
   "metadata": {},
   "outputs": [],
   "source": [
    "#Question 19:Make a password validator with the following checks. A website requires the users to input username and password to register. Write a program to check the validity of password input by users"
   ]
  },
  {
   "cell_type": "code",
   "execution_count": 69,
   "id": "77800487",
   "metadata": {},
   "outputs": [
    {
     "name": "stdout",
     "output_type": "stream",
     "text": [
      "Enter password: akash123@#\n",
      "Valid password\n"
     ]
    }
   ],
   "source": [
    "password = input(\"Enter password: \")\n",
    "\n",
    "def valid(password):\n",
    "    count_a = 0\n",
    "    count_1 = 0\n",
    "    count = 0\n",
    "    for i in password:\n",
    "        if (i >= 'a' and i <= 'z'):\n",
    "            count_a += 1\n",
    "        elif (i >= '0' and i <= '9'):\n",
    "            count_1 += 1\n",
    "        elif ((i >= '#' and i <= '&') or i == \"@\"):\n",
    "            count += 1\n",
    "    \n",
    "    if (count_a >= 1 and count_1 >= 1 and count >=1):\n",
    "        print(\"Valid password\")\n",
    "    else:\n",
    "        print(\"Invalid password. Please enter again\")\n",
    "\n",
    "valid(password)"
   ]
  },
  {
   "cell_type": "code",
   "execution_count": null,
   "id": "556d1b76",
   "metadata": {},
   "outputs": [],
   "source": [
    "#Question 20: s = \"Hello how are you all\". For this given string write a code such that it prints the vowels present in the string s if any. ex: \"i\", \"a\" etc."
   ]
  },
  {
   "cell_type": "code",
   "execution_count": 71,
   "id": "b6bea961",
   "metadata": {},
   "outputs": [
    {
     "name": "stdout",
     "output_type": "stream",
     "text": [
      "Enter String Hello how are you all\n",
      "e o a u "
     ]
    }
   ],
   "source": [
    "vowel = ['a','e','i','o','u']\n",
    "vowel_found = []\n",
    "str = input(\"Enter String \")\n",
    "string = str.lower()\n",
    "for letter in string:\n",
    "    if letter in vowel:\n",
    "        if letter not in vowel_found :\n",
    "            vowel_found .append(letter)\n",
    "for vowel in vowel_found :\n",
    "    print(vowel, end = \" \")"
   ]
  },
  {
   "cell_type": "code",
   "execution_count": null,
   "id": "c5c5587e",
   "metadata": {},
   "outputs": [],
   "source": []
  }
 ],
 "metadata": {
  "kernelspec": {
   "display_name": "Python 3",
   "language": "python",
   "name": "python3"
  },
  "language_info": {
   "codemirror_mode": {
    "name": "ipython",
    "version": 3
   },
   "file_extension": ".py",
   "mimetype": "text/x-python",
   "name": "python",
   "nbconvert_exporter": "python",
   "pygments_lexer": "ipython3",
   "version": "3.9.5"
  }
 },
 "nbformat": 4,
 "nbformat_minor": 5
}
