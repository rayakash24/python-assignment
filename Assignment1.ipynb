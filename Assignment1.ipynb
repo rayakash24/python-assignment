{
 "cells": [
  {
   "cell_type": "code",
   "execution_count": 1,
   "id": "41e30827",
   "metadata": {},
   "outputs": [],
   "source": [
    "#Question 1"
   ]
  },
  {
   "cell_type": "code",
   "execution_count": 31,
   "id": "2ead46cf",
   "metadata": {},
   "outputs": [
    {
     "name": "stdout",
     "output_type": "stream",
     "text": [
      "Length of string: 23\n",
      "['Hey', 'i', 'am', 'from', 'New', 'Delhi']\n"
     ]
    }
   ],
   "source": [
    " s = \"Hey i am from New Delhi\"\n",
    "    \n",
    "print(\"Length of string:\", len(s))\n",
    "print(s.split())"
   ]
  },
  {
   "cell_type": "code",
   "execution_count": 8,
   "id": "2bbd8b86",
   "metadata": {},
   "outputs": [],
   "source": [
    "#Question 2"
   ]
  },
  {
   "cell_type": "code",
   "execution_count": 32,
   "id": "23d49412",
   "metadata": {},
   "outputs": [
    {
     "name": "stdout",
     "output_type": "stream",
     "text": [
      "Name is rahul\n",
      "Rame Is Rahul\n",
      "NAME IS RAHUL\n"
     ]
    }
   ],
   "source": [
    "s = \"name is rahul\"\n",
    "print(s.capitalize())\n",
    "\n",
    "str = s.title()\n",
    "s_list = list(str)\n",
    "s_list[0] = 'R'\n",
    "print(\"\".join(s_list))\n",
    "\n",
    "print(s.upper())"
   ]
  },
  {
   "cell_type": "code",
   "execution_count": 11,
   "id": "0227975c",
   "metadata": {},
   "outputs": [],
   "source": [
    "#Question 3"
   ]
  },
  {
   "cell_type": "code",
   "execution_count": 12,
   "id": "4eee2114",
   "metadata": {},
   "outputs": [
    {
     "name": "stdout",
     "output_type": "stream",
     "text": [
      "Enter length: 20\n",
      "Enter breadth: 10\n",
      "Area: 200\n",
      "Perimeter: 60\n"
     ]
    }
   ],
   "source": [
    "length = int(input(\"Enter length: \"))\n",
    "breadth = int(input(\"Enter breadth: \"))\n",
    "area = length * breadth\n",
    "perimeter = 2 * (length + breadth)\n",
    "print(\"Area:\", area)\n",
    "print(\"Perimeter:\", perimeter)"
   ]
  },
  {
   "cell_type": "code",
   "execution_count": 13,
   "id": "56293b0e",
   "metadata": {},
   "outputs": [],
   "source": [
    "#Question 4"
   ]
  },
  {
   "cell_type": "code",
   "execution_count": 15,
   "id": "9dc369d3",
   "metadata": {},
   "outputs": [
    {
     "name": "stdout",
     "output_type": "stream",
     "text": [
      "Enter diameter: 14\n",
      "Circumference: 43.96\n",
      "Area: 153.86\n"
     ]
    }
   ],
   "source": [
    "pi = 3.14\n",
    "diameter = int(input(\"Enter diameter: \"))\n",
    "radius = diameter / 2\n",
    "circumference = 2 * pi * radius\n",
    "area = pi * radius * radius\n",
    "print(\"Circumference:\", circumference)\n",
    "print(\"Area:\", area)"
   ]
  },
  {
   "cell_type": "code",
   "execution_count": 16,
   "id": "73c4179c",
   "metadata": {},
   "outputs": [],
   "source": [
    "#Question 5"
   ]
  },
  {
   "cell_type": "code",
   "execution_count": 18,
   "id": "7a74ef4c",
   "metadata": {},
   "outputs": [
    {
     "name": "stdout",
     "output_type": "stream",
     "text": [
      "a = 5\n",
      "b = 6\n",
      "c = 1\n",
      "Root 1: -0.2\n",
      "Root 2: -1.0\n"
     ]
    }
   ],
   "source": [
    "import math\n",
    "a = int(input(\"a = \"))\n",
    "b = int(input(\"b = \"))\n",
    "c = int(input(\"c = \"))\n",
    "res = (b*b) - (4*a*c)\n",
    "sqr = math.sqrt(res)\n",
    "ans1 = (-b+sqr) / (2*a)\n",
    "ans2 = (-b-sqr) /  (2*a)\n",
    "print(\"Root 1:\", ans1)\n",
    "print(\"Root 2:\", ans2)"
   ]
  },
  {
   "cell_type": "code",
   "execution_count": 19,
   "id": "48c1e59b",
   "metadata": {},
   "outputs": [],
   "source": [
    "#Question 6"
   ]
  },
  {
   "cell_type": "code",
   "execution_count": 21,
   "id": "1c4d06a9",
   "metadata": {},
   "outputs": [
    {
     "name": "stdout",
     "output_type": "stream",
     "text": [
      "Enter radius: 10\n",
      "Volume of sphere: 4186.666666666667\n"
     ]
    }
   ],
   "source": [
    "pi = 3.14\n",
    "radius = int(input(\"Enter radius: \"))\n",
    "volume = (4/3) * pi * radius ** 3\n",
    "print(\"Volume of sphere:\", volume)"
   ]
  },
  {
   "cell_type": "code",
   "execution_count": 22,
   "id": "bddb339b",
   "metadata": {},
   "outputs": [],
   "source": [
    "#Question 7"
   ]
  },
  {
   "cell_type": "code",
   "execution_count": 23,
   "id": "d67c2b2f",
   "metadata": {},
   "outputs": [
    {
     "name": "stdout",
     "output_type": "stream",
     "text": [
      "Enter the number: 3454\n",
      "No. of digits: 4\n"
     ]
    }
   ],
   "source": [
    "num = int(input(\"Enter the number: \"))\n",
    "count = 0\n",
    "while (num > 1):\n",
    "    num = num // 10\n",
    "    count += 1\n",
    "print(\"No. of digits:\", count)"
   ]
  },
  {
   "cell_type": "code",
   "execution_count": 24,
   "id": "a0210f30",
   "metadata": {},
   "outputs": [],
   "source": [
    "#Question 8"
   ]
  },
  {
   "cell_type": "code",
   "execution_count": 25,
   "id": "9cd574b4",
   "metadata": {},
   "outputs": [
    {
     "name": "stdout",
     "output_type": "stream",
     "text": [
      "Enter the string: my name is akash\n",
      "MY NAME IS AKASH\n"
     ]
    }
   ],
   "source": [
    "str = input(\"Enter the string: \")\n",
    "print(str.upper())"
   ]
  },
  {
   "cell_type": "code",
   "execution_count": 26,
   "id": "0f962c6b",
   "metadata": {},
   "outputs": [],
   "source": [
    "#Question 9"
   ]
  },
  {
   "cell_type": "code",
   "execution_count": 27,
   "id": "27caf640",
   "metadata": {},
   "outputs": [
    {
     "name": "stdout",
     "output_type": "stream",
     "text": [
      "Enter the string: hello\n",
      "Enter the index no.: 0\n",
      "Enter the character: j\n"
     ]
    },
    {
     "data": {
      "text/plain": [
       "'jello'"
      ]
     },
     "execution_count": 27,
     "metadata": {},
     "output_type": "execute_result"
    }
   ],
   "source": [
    "s = input(\"Enter the string: \")\n",
    "n = int(input(\"Enter the index no.: \"))\n",
    "c = input(\"Enter the character: \")\n",
    "s_list = list(s)\n",
    "s_list[n] = c\n",
    "\"\".join(s_list)"
   ]
  },
  {
   "cell_type": "code",
   "execution_count": 28,
   "id": "26486ae9",
   "metadata": {},
   "outputs": [],
   "source": [
    "#Question 10"
   ]
  },
  {
   "cell_type": "code",
   "execution_count": 29,
   "id": "6e37b933",
   "metadata": {},
   "outputs": [
    {
     "name": "stdout",
     "output_type": "stream",
     "text": [
      "Enter the string: Hey there\n",
      "Reversed string is: ereht yeH\n"
     ]
    }
   ],
   "source": [
    "s = input(\"Enter the string: \")\n",
    "s1 = \"\"\n",
    "for i in s:\n",
    "    s1 = i + s1\n",
    "print(\"Reversed string is:\", s1)"
   ]
  },
  {
   "cell_type": "code",
   "execution_count": null,
   "id": "c992d238",
   "metadata": {},
   "outputs": [],
   "source": []
  }
 ],
 "metadata": {
  "kernelspec": {
   "display_name": "Python 3",
   "language": "python",
   "name": "python3"
  },
  "language_info": {
   "codemirror_mode": {
    "name": "ipython",
    "version": 3
   },
   "file_extension": ".py",
   "mimetype": "text/x-python",
   "name": "python",
   "nbconvert_exporter": "python",
   "pygments_lexer": "ipython3",
   "version": "3.9.5"
  }
 },
 "nbformat": 4,
 "nbformat_minor": 5
}
